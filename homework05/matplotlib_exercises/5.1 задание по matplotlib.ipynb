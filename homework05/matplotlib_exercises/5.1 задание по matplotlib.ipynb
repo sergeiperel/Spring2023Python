{
 "cells": [
  {
   "cell_type": "markdown",
   "id": "33caf809",
   "metadata": {},
   "source": [
    "# Exercise 1  \n",
    "Четные индексы"
   ]
  },
  {
   "cell_type": "code",
   "execution_count": 114,
   "id": "d1be50dd",
   "metadata": {
    "scrolled": true
   },
   "outputs": [
    {
     "name": "stdout",
     "output_type": "stream",
     "text": [
      "1 2 3 4 5\n",
      "1 3 5\n"
     ]
    }
   ],
   "source": [
    "print(' '.join(input().split()[::2]))"
   ]
  },
  {
   "cell_type": "markdown",
   "id": "094d17ab",
   "metadata": {},
   "source": [
    "# Exercise 2  \n",
    "Наибольший элемент и его индекс"
   ]
  },
  {
   "cell_type": "code",
   "execution_count": 115,
   "id": "4fd23ff0",
   "metadata": {},
   "outputs": [
    {
     "name": "stdout",
     "output_type": "stream",
     "text": [
      "1 2 3 2 1\n",
      "3 2\n"
     ]
    }
   ],
   "source": [
    "a = list(map(int, input().split()))\n",
    "print(max(a), a.index(max(a)))"
   ]
  },
  {
   "cell_type": "markdown",
   "id": "0bb7f54e",
   "metadata": {},
   "source": [
    "# Exercise 3\n",
    "Вывести в обратном порядке"
   ]
  },
  {
   "cell_type": "code",
   "execution_count": 116,
   "id": "405e8046",
   "metadata": {},
   "outputs": [
    {
     "name": "stdout",
     "output_type": "stream",
     "text": [
      "1 2 3 4 5\n",
      "5 4 3 2 1\n"
     ]
    }
   ],
   "source": [
    "print(' '.join(input().split()[::-1]))"
   ]
  },
  {
   "cell_type": "markdown",
   "id": "8b78bbd1",
   "metadata": {},
   "source": [
    "# Exercise 4  \n",
    "Переставить соседние"
   ]
  },
  {
   "cell_type": "code",
   "execution_count": 117,
   "id": "9471014f",
   "metadata": {},
   "outputs": [
    {
     "name": "stdout",
     "output_type": "stream",
     "text": [
      "1 2 3 4 5\n",
      "2 1 4 3 5\n"
     ]
    }
   ],
   "source": [
    "a = input().split()\n",
    "a[0:len(a)-1:2], a[1::2] = a[1::2], a[0:len(a)-1:2]\n",
    "print(' '.join(a))"
   ]
  },
  {
   "cell_type": "markdown",
   "id": "23017101",
   "metadata": {},
   "source": [
    "# Exercise 5 \n",
    "Циклический сдвиг вправо"
   ]
  },
  {
   "cell_type": "code",
   "execution_count": 119,
   "id": "47d0ed69",
   "metadata": {},
   "outputs": [
    {
     "name": "stdout",
     "output_type": "stream",
     "text": [
      "1 2 3 4 5\n",
      "5 1 2 3 4\n"
     ]
    }
   ],
   "source": [
    "a = input().split()\n",
    "print(' '.join(a[-1:] + a[:-1]))"
   ]
  },
  {
   "cell_type": "markdown",
   "id": "d08001e0",
   "metadata": {},
   "source": [
    "# Exercise 6  \n",
    "Удалить элемент"
   ]
  },
  {
   "cell_type": "code",
   "execution_count": 120,
   "id": "a3554177",
   "metadata": {},
   "outputs": [
    {
     "name": "stdout",
     "output_type": "stream",
     "text": [
      "7 6 5 4 3 2 1\n",
      "2\n",
      "7 6 4 3 2 1\n"
     ]
    }
   ],
   "source": [
    "a = input().split()\n",
    "ind = int(input())\n",
    "print(' '.join(a[:ind] + a[ind+1:len(a)]))"
   ]
  },
  {
   "cell_type": "markdown",
   "id": "653a0c46",
   "metadata": {},
   "source": [
    "# Exercise 7  \n",
    "Вставить элемент"
   ]
  },
  {
   "cell_type": "code",
   "execution_count": 121,
   "id": "01ca239b",
   "metadata": {},
   "outputs": [
    {
     "name": "stdout",
     "output_type": "stream",
     "text": [
      "7 6 5 4 3 2 1\n",
      "2 0\n",
      "7 6 0 5 4 3 2 1\n"
     ]
    }
   ],
   "source": [
    "a = input().split()\n",
    "n, elem = map(int, input().split())\n",
    "print(' '.join(a[:n] + list(str(elem)) + a[n:]))"
   ]
  },
  {
   "cell_type": "markdown",
   "id": "b8344614",
   "metadata": {},
   "source": [
    "# Exercise 8\n",
    "Большой сдвиг"
   ]
  },
  {
   "cell_type": "code",
   "execution_count": 122,
   "id": "87f88d0e",
   "metadata": {},
   "outputs": [
    {
     "name": "stdout",
     "output_type": "stream",
     "text": [
      "5 3 7 4 6\n",
      "3\n",
      "7 4 6 5 3\n"
     ]
    }
   ],
   "source": [
    "a, b = input().split(), int(input())\n",
    "print(' '.join(a[-b:] + a[:-b]))"
   ]
  }
 ],
 "metadata": {
  "kernelspec": {
   "display_name": "Python 3 (ipykernel)",
   "language": "python",
   "name": "python3"
  },
  "language_info": {
   "codemirror_mode": {
    "name": "ipython",
    "version": 3
   },
   "file_extension": ".py",
   "mimetype": "text/x-python",
   "name": "python",
   "nbconvert_exporter": "python",
   "pygments_lexer": "ipython3",
   "version": "3.11.3"
  }
 },
 "nbformat": 4,
 "nbformat_minor": 5
}
